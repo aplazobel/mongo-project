{
 "cells": [
  {
   "cell_type": "code",
   "execution_count": 1,
   "metadata": {},
   "outputs": [],
   "source": [
    "import pandas as pd\n",
    "from pymongo import MongoClient\n",
    "import json, requests\n",
    "import os\n",
    "from dotenv import load_dotenv\n",
    "load_dotenv()\n",
    "import requests\n",
    "from pandas.io.json import json_normalize"
   ]
  },
  {
   "cell_type": "markdown",
   "metadata": {},
   "source": [
    "### Let's define a function that gets the nearest result from the Foursquare Api looking from the coordinates of the design office of 99Design in California. "
   ]
  },
  {
   "cell_type": "code",
   "execution_count": 27,
   "metadata": {},
   "outputs": [],
   "source": [
    "def getFoursquare(search):    \n",
    "    url = 'https://api.foursquare.com/v2/venues/explore'\n",
    "    params = dict(\n",
    "    client_id=os.getenv('CLIENT_ID'),\n",
    "    client_secret=os.getenv('CLIENT_SECRET'),\n",
    "    v='20180323',\n",
    "    ll='37.795531,-122.400598',\n",
    "    query=search,\n",
    "    limit=1\n",
    "    )\n",
    "    resp = requests.get(url=url, params=params)\n",
    "    data = json.loads(resp.text)\n",
    "    df_api = pd.DataFrame([{\n",
    "        'query' : data['response']['query'],\n",
    "        'name': data['response']['groups'][0]['items'][0]['venue']['name'],\n",
    "        'distance' :data['response']['groups'][0]['items'][0]['venue']['location']['distance'],\n",
    "        'address': data['response']['groups'][0]['items'][0]['venue']['location']['formattedAddress'][0],\n",
    "        'postal_code':data['response']['groups'][0]['items'][0]['venue']['location']['postalCode'],\n",
    "        'latitude' : data['response']['suggestedBounds']['ne']['lat'],\n",
    "        'longitude' : data['response']['suggestedBounds']['ne']['lng'] }])\n",
    "    return df_api"
   ]
  },
  {
   "cell_type": "markdown",
   "metadata": {},
   "source": [
    "### From the requirements we see that the most important one (the one that affect every person in the company) is the place to party. So i am going to launch a query search looking for the nearest pub and bar and find a midpoint in between both of them and use that as the default coordinates so that the office is right next to the pub and bar therefore giving the people two places to party"
   ]
  },
  {
   "cell_type": "code",
   "execution_count": 28,
   "metadata": {},
   "outputs": [],
   "source": [
    "df1 = getFoursquare(\"pub\")"
   ]
  },
  {
   "cell_type": "code",
   "execution_count": 29,
   "metadata": {},
   "outputs": [
    {
     "data": {
      "text/html": [
       "<div>\n",
       "<style scoped>\n",
       "    .dataframe tbody tr th:only-of-type {\n",
       "        vertical-align: middle;\n",
       "    }\n",
       "\n",
       "    .dataframe tbody tr th {\n",
       "        vertical-align: top;\n",
       "    }\n",
       "\n",
       "    .dataframe thead th {\n",
       "        text-align: right;\n",
       "    }\n",
       "</style>\n",
       "<table border=\"1\" class=\"dataframe\">\n",
       "  <thead>\n",
       "    <tr style=\"text-align: right;\">\n",
       "      <th></th>\n",
       "      <th>query</th>\n",
       "      <th>name</th>\n",
       "      <th>distance</th>\n",
       "      <th>address</th>\n",
       "      <th>postal_code</th>\n",
       "      <th>latitude</th>\n",
       "      <th>longitude</th>\n",
       "    </tr>\n",
       "  </thead>\n",
       "  <tbody>\n",
       "    <tr>\n",
       "      <th>0</th>\n",
       "      <td>pub</td>\n",
       "      <td>Old Ship Saloon</td>\n",
       "      <td>250</td>\n",
       "      <td>298 Pacific Ave (at Battery St)</td>\n",
       "      <td>94111</td>\n",
       "      <td>37.799123</td>\n",
       "      <td>-122.399518</td>\n",
       "    </tr>\n",
       "  </tbody>\n",
       "</table>\n",
       "</div>"
      ],
      "text/plain": [
       "  query             name  distance                          address  \\\n",
       "0   pub  Old Ship Saloon       250  298 Pacific Ave (at Battery St)   \n",
       "\n",
       "  postal_code   latitude   longitude  \n",
       "0       94111  37.799123 -122.399518  "
      ]
     },
     "execution_count": 29,
     "metadata": {},
     "output_type": "execute_result"
    }
   ],
   "source": [
    "df1"
   ]
  },
  {
   "cell_type": "code",
   "execution_count": 30,
   "metadata": {},
   "outputs": [],
   "source": [
    "df2 = getFoursquare(\"bar\")"
   ]
  },
  {
   "cell_type": "code",
   "execution_count": 31,
   "metadata": {},
   "outputs": [
    {
     "data": {
      "text/html": [
       "<div>\n",
       "<style scoped>\n",
       "    .dataframe tbody tr th:only-of-type {\n",
       "        vertical-align: middle;\n",
       "    }\n",
       "\n",
       "    .dataframe tbody tr th {\n",
       "        vertical-align: top;\n",
       "    }\n",
       "\n",
       "    .dataframe thead th {\n",
       "        text-align: right;\n",
       "    }\n",
       "</style>\n",
       "<table border=\"1\" class=\"dataframe\">\n",
       "  <thead>\n",
       "    <tr style=\"text-align: right;\">\n",
       "      <th></th>\n",
       "      <th>query</th>\n",
       "      <th>name</th>\n",
       "      <th>distance</th>\n",
       "      <th>address</th>\n",
       "      <th>postal_code</th>\n",
       "      <th>latitude</th>\n",
       "      <th>longitude</th>\n",
       "    </tr>\n",
       "  </thead>\n",
       "  <tbody>\n",
       "    <tr>\n",
       "      <th>0</th>\n",
       "      <td>bar</td>\n",
       "      <td>Roka | Bar</td>\n",
       "      <td>296</td>\n",
       "      <td>801 Montgomery St (at Jackson St)</td>\n",
       "      <td>94133</td>\n",
       "      <td>37.797683</td>\n",
       "      <td>-122.402462</td>\n",
       "    </tr>\n",
       "  </tbody>\n",
       "</table>\n",
       "</div>"
      ],
      "text/plain": [
       "  query        name  distance                            address postal_code  \\\n",
       "0   bar  Roka | Bar       296  801 Montgomery St (at Jackson St)       94133   \n",
       "\n",
       "    latitude   longitude  \n",
       "0  37.797683 -122.402462  "
      ]
     },
     "execution_count": 31,
     "metadata": {},
     "output_type": "execute_result"
    }
   ],
   "source": [
    "df2"
   ]
  },
  {
   "cell_type": "markdown",
   "metadata": {},
   "source": [
    "From this we see the cordinates of the bar and pub. Let's find the midpoint"
   ]
  },
  {
   "cell_type": "code",
   "execution_count": 33,
   "metadata": {},
   "outputs": [],
   "source": [
    "#For the pub\n",
    "lat1= 37.799123\n",
    "lon1= -122.399518"
   ]
  },
  {
   "cell_type": "code",
   "execution_count": 34,
   "metadata": {},
   "outputs": [],
   "source": [
    "#For the bar\n",
    "lat2= 37.797683\t\n",
    "lon2= -122.402462"
   ]
  },
  {
   "cell_type": "code",
   "execution_count": 37,
   "metadata": {},
   "outputs": [
    {
     "data": {
      "text/plain": [
       "37.798403"
      ]
     },
     "execution_count": 37,
     "metadata": {},
     "output_type": "execute_result"
    }
   ],
   "source": [
    "lat_final = (lat1+lat2)/2\n",
    "lat_final"
   ]
  },
  {
   "cell_type": "code",
   "execution_count": 39,
   "metadata": {},
   "outputs": [
    {
     "data": {
      "text/plain": [
       "-122.40099000000001"
      ]
     },
     "execution_count": 39,
     "metadata": {},
     "output_type": "execute_result"
    }
   ],
   "source": [
    "lon_final= (lon1+lon2)/2\n",
    "lon_final"
   ]
  },
  {
   "cell_type": "markdown",
   "metadata": {},
   "source": [
    "### Now we redefine the first function with our office coordinates which are the ones above"
   ]
  },
  {
   "cell_type": "code",
   "execution_count": 45,
   "metadata": {},
   "outputs": [],
   "source": [
    "def getFoursquareFinal(search):    \n",
    "    url = 'https://api.foursquare.com/v2/venues/explore'\n",
    "    params = dict(\n",
    "    client_id=os.getenv('CLIENT_ID'),\n",
    "    client_secret=os.getenv('CLIENT_SECRET'),\n",
    "    v='20180323',\n",
    "    ll='37.798403,-122.400990',\n",
    "    query=search,\n",
    "    limit=1\n",
    "    )\n",
    "    resp = requests.get(url=url, params=params)\n",
    "    data = json.loads(resp.text)\n",
    "    df_api = pd.DataFrame([{\n",
    "        'query' : data['response']['query'],\n",
    "        'name': data['response']['groups'][0]['items'][0]['venue']['name'],\n",
    "        'distance' :data['response']['groups'][0]['items'][0]['venue']['location']['distance'],\n",
    "        'address': data['response']['groups'][0]['items'][0]['venue']['location']['formattedAddress'][0],\n",
    "        'postal_code':data['response']['groups'][0]['items'][0]['venue']['location']['postalCode'],\n",
    "        'latitude' : data['response']['suggestedBounds']['ne']['lat'],\n",
    "        'longitude' : data['response']['suggestedBounds']['ne']['lng'] }])\n",
    "    return df_api"
   ]
  },
  {
   "cell_type": "markdown",
   "metadata": {},
   "source": [
    "### Now let's look for the basketball stadium, which should be where the Golden State Warrios play, the Chase Center"
   ]
  },
  {
   "cell_type": "code",
   "execution_count": 46,
   "metadata": {},
   "outputs": [],
   "source": [
    "df3 = getFoursquareFinal(\"basketball stadium\")"
   ]
  },
  {
   "cell_type": "code",
   "execution_count": 47,
   "metadata": {},
   "outputs": [
    {
     "data": {
      "text/html": [
       "<div>\n",
       "<style scoped>\n",
       "    .dataframe tbody tr th:only-of-type {\n",
       "        vertical-align: middle;\n",
       "    }\n",
       "\n",
       "    .dataframe tbody tr th {\n",
       "        vertical-align: top;\n",
       "    }\n",
       "\n",
       "    .dataframe thead th {\n",
       "        text-align: right;\n",
       "    }\n",
       "</style>\n",
       "<table border=\"1\" class=\"dataframe\">\n",
       "  <thead>\n",
       "    <tr style=\"text-align: right;\">\n",
       "      <th></th>\n",
       "      <th>query</th>\n",
       "      <th>name</th>\n",
       "      <th>distance</th>\n",
       "      <th>address</th>\n",
       "      <th>postal_code</th>\n",
       "      <th>latitude</th>\n",
       "      <th>longitude</th>\n",
       "    </tr>\n",
       "  </thead>\n",
       "  <tbody>\n",
       "    <tr>\n",
       "      <th>0</th>\n",
       "      <td>basketball stadium</td>\n",
       "      <td>Chase Center</td>\n",
       "      <td>3601</td>\n",
       "      <td>1 Warriors Way</td>\n",
       "      <td>94158</td>\n",
       "      <td>37.769214</td>\n",
       "      <td>-122.38611</td>\n",
       "    </tr>\n",
       "  </tbody>\n",
       "</table>\n",
       "</div>"
      ],
      "text/plain": [
       "                query          name  distance         address postal_code  \\\n",
       "0  basketball stadium  Chase Center      3601  1 Warriors Way       94158   \n",
       "\n",
       "    latitude  longitude  \n",
       "0  37.769214 -122.38611  "
      ]
     },
     "execution_count": 47,
     "metadata": {},
     "output_type": "execute_result"
    }
   ],
   "source": [
    "df3"
   ]
  },
  {
   "cell_type": "markdown",
   "metadata": {},
   "source": [
    "### Now let's find the closest starbucks"
   ]
  },
  {
   "cell_type": "code",
   "execution_count": 48,
   "metadata": {},
   "outputs": [],
   "source": [
    "df4 = getFoursquareFinal(\"starbucks\")"
   ]
  },
  {
   "cell_type": "code",
   "execution_count": 49,
   "metadata": {},
   "outputs": [
    {
     "data": {
      "text/html": [
       "<div>\n",
       "<style scoped>\n",
       "    .dataframe tbody tr th:only-of-type {\n",
       "        vertical-align: middle;\n",
       "    }\n",
       "\n",
       "    .dataframe tbody tr th {\n",
       "        vertical-align: top;\n",
       "    }\n",
       "\n",
       "    .dataframe thead th {\n",
       "        text-align: right;\n",
       "    }\n",
       "</style>\n",
       "<table border=\"1\" class=\"dataframe\">\n",
       "  <thead>\n",
       "    <tr style=\"text-align: right;\">\n",
       "      <th></th>\n",
       "      <th>query</th>\n",
       "      <th>name</th>\n",
       "      <th>distance</th>\n",
       "      <th>address</th>\n",
       "      <th>postal_code</th>\n",
       "      <th>latitude</th>\n",
       "      <th>longitude</th>\n",
       "    </tr>\n",
       "  </thead>\n",
       "  <tbody>\n",
       "    <tr>\n",
       "      <th>0</th>\n",
       "      <td>starbucks</td>\n",
       "      <td>Starbucks</td>\n",
       "      <td>471</td>\n",
       "      <td>398 Market St (Front St)</td>\n",
       "      <td>94111</td>\n",
       "      <td>37.795749</td>\n",
       "      <td>-122.397875</td>\n",
       "    </tr>\n",
       "  </tbody>\n",
       "</table>\n",
       "</div>"
      ],
      "text/plain": [
       "       query       name  distance                   address postal_code  \\\n",
       "0  starbucks  Starbucks       471  398 Market St (Front St)       94111   \n",
       "\n",
       "    latitude   longitude  \n",
       "0  37.795749 -122.397875  "
      ]
     },
     "execution_count": 49,
     "metadata": {},
     "output_type": "execute_result"
    }
   ],
   "source": [
    "df4"
   ]
  },
  {
   "cell_type": "markdown",
   "metadata": {},
   "source": [
    "### Now let's find an airport"
   ]
  },
  {
   "cell_type": "code",
   "execution_count": 50,
   "metadata": {},
   "outputs": [],
   "source": [
    "df5 = getFoursquareFinal(\"airport\")"
   ]
  },
  {
   "cell_type": "code",
   "execution_count": 51,
   "metadata": {},
   "outputs": [
    {
     "data": {
      "text/html": [
       "<div>\n",
       "<style scoped>\n",
       "    .dataframe tbody tr th:only-of-type {\n",
       "        vertical-align: middle;\n",
       "    }\n",
       "\n",
       "    .dataframe tbody tr th {\n",
       "        vertical-align: top;\n",
       "    }\n",
       "\n",
       "    .dataframe thead th {\n",
       "        text-align: right;\n",
       "    }\n",
       "</style>\n",
       "<table border=\"1\" class=\"dataframe\">\n",
       "  <thead>\n",
       "    <tr style=\"text-align: right;\">\n",
       "      <th></th>\n",
       "      <th>query</th>\n",
       "      <th>name</th>\n",
       "      <th>distance</th>\n",
       "      <th>address</th>\n",
       "      <th>postal_code</th>\n",
       "      <th>latitude</th>\n",
       "      <th>longitude</th>\n",
       "    </tr>\n",
       "  </thead>\n",
       "  <tbody>\n",
       "    <tr>\n",
       "      <th>0</th>\n",
       "      <td>airport</td>\n",
       "      <td>San Francisco International Airport (SFO) (San...</td>\n",
       "      <td>20262</td>\n",
       "      <td>N McDonnell Rd (at Link Rd)</td>\n",
       "      <td>94128</td>\n",
       "      <td>37.618063</td>\n",
       "      <td>-122.38574</td>\n",
       "    </tr>\n",
       "  </tbody>\n",
       "</table>\n",
       "</div>"
      ],
      "text/plain": [
       "     query                                               name  distance  \\\n",
       "0  airport  San Francisco International Airport (SFO) (San...     20262   \n",
       "\n",
       "                       address postal_code   latitude  longitude  \n",
       "0  N McDonnell Rd (at Link Rd)       94128  37.618063 -122.38574  "
      ]
     },
     "execution_count": 51,
     "metadata": {},
     "output_type": "execute_result"
    }
   ],
   "source": [
    "df5"
   ]
  },
  {
   "cell_type": "code",
   "execution_count": 52,
   "metadata": {},
   "outputs": [
    {
     "data": {
      "text/html": [
       "<div>\n",
       "<style scoped>\n",
       "    .dataframe tbody tr th:only-of-type {\n",
       "        vertical-align: middle;\n",
       "    }\n",
       "\n",
       "    .dataframe tbody tr th {\n",
       "        vertical-align: top;\n",
       "    }\n",
       "\n",
       "    .dataframe thead th {\n",
       "        text-align: right;\n",
       "    }\n",
       "</style>\n",
       "<table border=\"1\" class=\"dataframe\">\n",
       "  <thead>\n",
       "    <tr style=\"text-align: right;\">\n",
       "      <th></th>\n",
       "      <th>query</th>\n",
       "      <th>name</th>\n",
       "      <th>distance</th>\n",
       "      <th>address</th>\n",
       "      <th>postal_code</th>\n",
       "      <th>latitude</th>\n",
       "      <th>longitude</th>\n",
       "    </tr>\n",
       "  </thead>\n",
       "  <tbody>\n",
       "    <tr>\n",
       "      <th>0</th>\n",
       "      <td>pub</td>\n",
       "      <td>Old Ship Saloon</td>\n",
       "      <td>250</td>\n",
       "      <td>298 Pacific Ave (at Battery St)</td>\n",
       "      <td>94111</td>\n",
       "      <td>37.799123</td>\n",
       "      <td>-122.399518</td>\n",
       "    </tr>\n",
       "    <tr>\n",
       "      <th>0</th>\n",
       "      <td>bar</td>\n",
       "      <td>Roka | Bar</td>\n",
       "      <td>296</td>\n",
       "      <td>801 Montgomery St (at Jackson St)</td>\n",
       "      <td>94133</td>\n",
       "      <td>37.797683</td>\n",
       "      <td>-122.402462</td>\n",
       "    </tr>\n",
       "    <tr>\n",
       "      <th>0</th>\n",
       "      <td>basketball stadium</td>\n",
       "      <td>Chase Center</td>\n",
       "      <td>3601</td>\n",
       "      <td>1 Warriors Way</td>\n",
       "      <td>94158</td>\n",
       "      <td>37.769214</td>\n",
       "      <td>-122.386110</td>\n",
       "    </tr>\n",
       "    <tr>\n",
       "      <th>0</th>\n",
       "      <td>starbucks</td>\n",
       "      <td>Starbucks</td>\n",
       "      <td>471</td>\n",
       "      <td>398 Market St (Front St)</td>\n",
       "      <td>94111</td>\n",
       "      <td>37.795749</td>\n",
       "      <td>-122.397875</td>\n",
       "    </tr>\n",
       "    <tr>\n",
       "      <th>0</th>\n",
       "      <td>airport</td>\n",
       "      <td>San Francisco International Airport (SFO) (San...</td>\n",
       "      <td>20262</td>\n",
       "      <td>N McDonnell Rd (at Link Rd)</td>\n",
       "      <td>94128</td>\n",
       "      <td>37.618063</td>\n",
       "      <td>-122.385740</td>\n",
       "    </tr>\n",
       "  </tbody>\n",
       "</table>\n",
       "</div>"
      ],
      "text/plain": [
       "                query                                               name  \\\n",
       "0                 pub                                    Old Ship Saloon   \n",
       "0                 bar                                         Roka | Bar   \n",
       "0  basketball stadium                                       Chase Center   \n",
       "0           starbucks                                          Starbucks   \n",
       "0             airport  San Francisco International Airport (SFO) (San...   \n",
       "\n",
       "   distance                            address postal_code   latitude  \\\n",
       "0       250    298 Pacific Ave (at Battery St)       94111  37.799123   \n",
       "0       296  801 Montgomery St (at Jackson St)       94133  37.797683   \n",
       "0      3601                     1 Warriors Way       94158  37.769214   \n",
       "0       471           398 Market St (Front St)       94111  37.795749   \n",
       "0     20262        N McDonnell Rd (at Link Rd)       94128  37.618063   \n",
       "\n",
       "    longitude  \n",
       "0 -122.399518  \n",
       "0 -122.402462  \n",
       "0 -122.386110  \n",
       "0 -122.397875  \n",
       "0 -122.385740  "
      ]
     },
     "execution_count": 52,
     "metadata": {},
     "output_type": "execute_result"
    }
   ],
   "source": [
    "frames = [df1, df2, df3, df4, df5]\n",
    "final = pd.concat(frames)\n",
    "final"
   ]
  },
  {
   "cell_type": "code",
   "execution_count": 53,
   "metadata": {},
   "outputs": [],
   "source": [
    "from folium import Map, Marker, Icon, FeatureGroup, LayerControl, Choropleth"
   ]
  },
  {
   "cell_type": "code",
   "execution_count": 60,
   "metadata": {},
   "outputs": [
    {
     "data": {
      "text/html": [
       "<div style=\"width:100%;\"><div style=\"position:relative;width:100%;height:0;padding-bottom:60%;\"><span style=\"color:#565656\">Make this Notebook Trusted to load map: File -> Trust Notebook</span><iframe src=\"about:blank\" style=\"position:absolute;width:100%;height:100%;left:0;top:0;border:none !important;\" data-html=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 onload=\"this.contentDocument.open();this.contentDocument.write(atob(this.getAttribute('data-html')));this.contentDocument.close();\" allowfullscreen webkitallowfullscreen mozallowfullscreen></iframe></div></div>"
      ],
      "text/plain": [
       "<folium.folium.Map at 0x11b4b76d0>"
      ]
     },
     "execution_count": 60,
     "metadata": {},
     "output_type": "execute_result"
    }
   ],
   "source": [
    "m = Map(location=[37.798403,-122.400990],zoom_start=10)\n",
    "for i, row in final.iterrows():\n",
    "    icon = Icon(\n",
    "                color=\"red\",\n",
    "                prefix=\"fa\",\n",
    "                icon=\"flag\"\n",
    "            )\n",
    "    Marker(\n",
    "        location=row[[\"latitude\",\"longitude\"]],\n",
    "        tooltip=row[\"query\"],\n",
    "        popup=row[\"name\"],\n",
    "        icon=icon\n",
    "    ).add_to(m)\n",
    "m"
   ]
  },
  {
   "cell_type": "code",
   "execution_count": null,
   "metadata": {},
   "outputs": [],
   "source": []
  },
  {
   "cell_type": "code",
   "execution_count": null,
   "metadata": {},
   "outputs": [],
   "source": []
  },
  {
   "cell_type": "code",
   "execution_count": null,
   "metadata": {},
   "outputs": [],
   "source": []
  },
  {
   "cell_type": "code",
   "execution_count": null,
   "metadata": {},
   "outputs": [],
   "source": []
  }
 ],
 "metadata": {
  "kernelspec": {
   "display_name": "Python 3",
   "language": "python",
   "name": "python3"
  },
  "language_info": {
   "codemirror_mode": {
    "name": "ipython",
    "version": 3
   },
   "file_extension": ".py",
   "mimetype": "text/x-python",
   "name": "python",
   "nbconvert_exporter": "python",
   "pygments_lexer": "ipython3",
   "version": "3.7.7"
  }
 },
 "nbformat": 4,
 "nbformat_minor": 4
}

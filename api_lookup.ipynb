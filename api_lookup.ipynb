{
 "cells": [
  {
   "cell_type": "code",
   "execution_count": 1,
   "metadata": {},
   "outputs": [],
   "source": [
    "import pandas as pd\n",
    "from pymongo import MongoClient\n",
    "import json, requests\n",
    "import os\n",
    "from dotenv import load_dotenv\n",
    "load_dotenv()\n",
    "import requests\n",
    "from pandas.io.json import json_normalize"
   ]
  },
  {
   "cell_type": "markdown",
   "metadata": {},
   "source": [
    "### Let's define a function that gets the nearest result from the Foursquare Api looking from the coordinates of the design office of 99Design in California. "
   ]
  },
  {
   "cell_type": "code",
   "execution_count": 27,
   "metadata": {},
   "outputs": [],
   "source": [
    "def getFoursquare(search):    \n",
    "    url = 'https://api.foursquare.com/v2/venues/explore'\n",
    "    params = dict(\n",
    "    client_id=os.getenv('CLIENT_ID'),\n",
    "    client_secret=os.getenv('CLIENT_SECRET'),\n",
    "    v='20180323',\n",
    "    ll='37.795531,-122.400598',\n",
    "    query=search,\n",
    "    limit=1\n",
    "    )\n",
    "    resp = requests.get(url=url, params=params)\n",
    "    data = json.loads(resp.text)\n",
    "    df_api = pd.DataFrame([{\n",
    "        'query' : data['response']['query'],\n",
    "        'name': data['response']['groups'][0]['items'][0]['venue']['name'],\n",
    "        'distance' :data['response']['groups'][0]['items'][0]['venue']['location']['distance'],\n",
    "        'address': data['response']['groups'][0]['items'][0]['venue']['location']['formattedAddress'][0],\n",
    "        'postal_code':data['response']['groups'][0]['items'][0]['venue']['location']['postalCode'],\n",
    "        'latitude' : data['response']['suggestedBounds']['ne']['lat'],\n",
    "        'longitude' : data['response']['suggestedBounds']['ne']['lng'] }])\n",
    "    return df_api"
   ]
  },
  {
   "cell_type": "markdown",
   "metadata": {},
   "source": [
    "### From the requirements we see that the most important one (the one that affect every person in the company) is the place to party. So i am going to launch a query search looking for the nearest pub and bar and find a midpoint in between both of them and use that as the default coordinates so that the office is right next to the pub and bar therefore giving the people two places to party"
   ]
  },
  {
   "cell_type": "code",
   "execution_count": 28,
   "metadata": {},
   "outputs": [],
   "source": [
    "df1 = getFoursquare(\"pub\")"
   ]
  },
  {
   "cell_type": "code",
   "execution_count": 29,
   "metadata": {},
   "outputs": [
    {
     "data": {
      "text/html": [
       "<div>\n",
       "<style scoped>\n",
       "    .dataframe tbody tr th:only-of-type {\n",
       "        vertical-align: middle;\n",
       "    }\n",
       "\n",
       "    .dataframe tbody tr th {\n",
       "        vertical-align: top;\n",
       "    }\n",
       "\n",
       "    .dataframe thead th {\n",
       "        text-align: right;\n",
       "    }\n",
       "</style>\n",
       "<table border=\"1\" class=\"dataframe\">\n",
       "  <thead>\n",
       "    <tr style=\"text-align: right;\">\n",
       "      <th></th>\n",
       "      <th>query</th>\n",
       "      <th>name</th>\n",
       "      <th>distance</th>\n",
       "      <th>address</th>\n",
       "      <th>postal_code</th>\n",
       "      <th>latitude</th>\n",
       "      <th>longitude</th>\n",
       "    </tr>\n",
       "  </thead>\n",
       "  <tbody>\n",
       "    <tr>\n",
       "      <th>0</th>\n",
       "      <td>pub</td>\n",
       "      <td>Old Ship Saloon</td>\n",
       "      <td>250</td>\n",
       "      <td>298 Pacific Ave (at Battery St)</td>\n",
       "      <td>94111</td>\n",
       "      <td>37.799123</td>\n",
       "      <td>-122.399518</td>\n",
       "    </tr>\n",
       "  </tbody>\n",
       "</table>\n",
       "</div>"
      ],
      "text/plain": [
       "  query             name  distance                          address  \\\n",
       "0   pub  Old Ship Saloon       250  298 Pacific Ave (at Battery St)   \n",
       "\n",
       "  postal_code   latitude   longitude  \n",
       "0       94111  37.799123 -122.399518  "
      ]
     },
     "execution_count": 29,
     "metadata": {},
     "output_type": "execute_result"
    }
   ],
   "source": [
    "df1"
   ]
  },
  {
   "cell_type": "code",
   "execution_count": 30,
   "metadata": {},
   "outputs": [],
   "source": [
    "df2 = getFoursquare(\"bar\")"
   ]
  },
  {
   "cell_type": "code",
   "execution_count": 31,
   "metadata": {},
   "outputs": [
    {
     "data": {
      "text/html": [
       "<div>\n",
       "<style scoped>\n",
       "    .dataframe tbody tr th:only-of-type {\n",
       "        vertical-align: middle;\n",
       "    }\n",
       "\n",
       "    .dataframe tbody tr th {\n",
       "        vertical-align: top;\n",
       "    }\n",
       "\n",
       "    .dataframe thead th {\n",
       "        text-align: right;\n",
       "    }\n",
       "</style>\n",
       "<table border=\"1\" class=\"dataframe\">\n",
       "  <thead>\n",
       "    <tr style=\"text-align: right;\">\n",
       "      <th></th>\n",
       "      <th>query</th>\n",
       "      <th>name</th>\n",
       "      <th>distance</th>\n",
       "      <th>address</th>\n",
       "      <th>postal_code</th>\n",
       "      <th>latitude</th>\n",
       "      <th>longitude</th>\n",
       "    </tr>\n",
       "  </thead>\n",
       "  <tbody>\n",
       "    <tr>\n",
       "      <th>0</th>\n",
       "      <td>bar</td>\n",
       "      <td>Roka | Bar</td>\n",
       "      <td>296</td>\n",
       "      <td>801 Montgomery St (at Jackson St)</td>\n",
       "      <td>94133</td>\n",
       "      <td>37.797683</td>\n",
       "      <td>-122.402462</td>\n",
       "    </tr>\n",
       "  </tbody>\n",
       "</table>\n",
       "</div>"
      ],
      "text/plain": [
       "  query        name  distance                            address postal_code  \\\n",
       "0   bar  Roka | Bar       296  801 Montgomery St (at Jackson St)       94133   \n",
       "\n",
       "    latitude   longitude  \n",
       "0  37.797683 -122.402462  "
      ]
     },
     "execution_count": 31,
     "metadata": {},
     "output_type": "execute_result"
    }
   ],
   "source": [
    "df2"
   ]
  },
  {
   "cell_type": "markdown",
   "metadata": {},
   "source": [
    "From this we see the cordinates of the bar and pub. Let's find the midpoint"
   ]
  },
  {
   "cell_type": "code",
   "execution_count": 33,
   "metadata": {},
   "outputs": [],
   "source": [
    "#For the pub\n",
    "lat1= 37.799123\n",
    "lon1= -122.399518"
   ]
  },
  {
   "cell_type": "code",
   "execution_count": 34,
   "metadata": {},
   "outputs": [],
   "source": [
    "#For the bar\n",
    "lat2= 37.797683\t\n",
    "lon2= -122.402462"
   ]
  },
  {
   "cell_type": "code",
   "execution_count": 37,
   "metadata": {},
   "outputs": [
    {
     "data": {
      "text/plain": [
       "37.798403"
      ]
     },
     "execution_count": 37,
     "metadata": {},
     "output_type": "execute_result"
    }
   ],
   "source": [
    "lat_final = (lat1+lat2)/2\n",
    "lat_final"
   ]
  },
  {
   "cell_type": "code",
   "execution_count": 39,
   "metadata": {},
   "outputs": [
    {
     "data": {
      "text/plain": [
       "-122.40099000000001"
      ]
     },
     "execution_count": 39,
     "metadata": {},
     "output_type": "execute_result"
    }
   ],
   "source": [
    "lon_final= (lon1+lon2)/2\n",
    "lon_final"
   ]
  },
  {
   "cell_type": "markdown",
   "metadata": {},
   "source": [
    "### Now we redefine the first function with our office coordinates which are the ones above"
   ]
  },
  {
   "cell_type": "code",
   "execution_count": 45,
   "metadata": {},
   "outputs": [],
   "source": [
    "def getFoursquareFinal(search):    \n",
    "    url = 'https://api.foursquare.com/v2/venues/explore'\n",
    "    params = dict(\n",
    "    client_id=os.getenv('CLIENT_ID'),\n",
    "    client_secret=os.getenv('CLIENT_SECRET'),\n",
    "    v='20180323',\n",
    "    ll='37.798403,-122.400990',\n",
    "    query=search,\n",
    "    limit=1\n",
    "    )\n",
    "    resp = requests.get(url=url, params=params)\n",
    "    data = json.loads(resp.text)\n",
    "    df_api = pd.DataFrame([{\n",
    "        'query' : data['response']['query'],\n",
    "        'name': data['response']['groups'][0]['items'][0]['venue']['name'],\n",
    "        'distance' :data['response']['groups'][0]['items'][0]['venue']['location']['distance'],\n",
    "        'address': data['response']['groups'][0]['items'][0]['venue']['location']['formattedAddress'][0],\n",
    "        'postal_code':data['response']['groups'][0]['items'][0]['venue']['location']['postalCode'],\n",
    "        'latitude' : data['response']['suggestedBounds']['ne']['lat'],\n",
    "        'longitude' : data['response']['suggestedBounds']['ne']['lng'] }])\n",
    "    return df_api"
   ]
  },
  {
   "cell_type": "markdown",
   "metadata": {},
   "source": [
    "### Now let's look for the basketball stadium, which should be where the Golden State Warrios play, the Chase Center"
   ]
  },
  {
   "cell_type": "code",
   "execution_count": 46,
   "metadata": {},
   "outputs": [],
   "source": [
    "df3 = getFoursquareFinal(\"basketball stadium\")"
   ]
  },
  {
   "cell_type": "code",
   "execution_count": 47,
   "metadata": {},
   "outputs": [
    {
     "data": {
      "text/html": [
       "<div>\n",
       "<style scoped>\n",
       "    .dataframe tbody tr th:only-of-type {\n",
       "        vertical-align: middle;\n",
       "    }\n",
       "\n",
       "    .dataframe tbody tr th {\n",
       "        vertical-align: top;\n",
       "    }\n",
       "\n",
       "    .dataframe thead th {\n",
       "        text-align: right;\n",
       "    }\n",
       "</style>\n",
       "<table border=\"1\" class=\"dataframe\">\n",
       "  <thead>\n",
       "    <tr style=\"text-align: right;\">\n",
       "      <th></th>\n",
       "      <th>query</th>\n",
       "      <th>name</th>\n",
       "      <th>distance</th>\n",
       "      <th>address</th>\n",
       "      <th>postal_code</th>\n",
       "      <th>latitude</th>\n",
       "      <th>longitude</th>\n",
       "    </tr>\n",
       "  </thead>\n",
       "  <tbody>\n",
       "    <tr>\n",
       "      <th>0</th>\n",
       "      <td>basketball stadium</td>\n",
       "      <td>Chase Center</td>\n",
       "      <td>3601</td>\n",
       "      <td>1 Warriors Way</td>\n",
       "      <td>94158</td>\n",
       "      <td>37.769214</td>\n",
       "      <td>-122.38611</td>\n",
       "    </tr>\n",
       "  </tbody>\n",
       "</table>\n",
       "</div>"
      ],
      "text/plain": [
       "                query          name  distance         address postal_code  \\\n",
       "0  basketball stadium  Chase Center      3601  1 Warriors Way       94158   \n",
       "\n",
       "    latitude  longitude  \n",
       "0  37.769214 -122.38611  "
      ]
     },
     "execution_count": 47,
     "metadata": {},
     "output_type": "execute_result"
    }
   ],
   "source": [
    "df3"
   ]
  },
  {
   "cell_type": "markdown",
   "metadata": {},
   "source": [
    "### Now let's find the closest starbucks"
   ]
  },
  {
   "cell_type": "code",
   "execution_count": 48,
   "metadata": {},
   "outputs": [],
   "source": [
    "df4 = getFoursquareFinal(\"starbucks\")"
   ]
  },
  {
   "cell_type": "code",
   "execution_count": 49,
   "metadata": {},
   "outputs": [
    {
     "data": {
      "text/html": [
       "<div>\n",
       "<style scoped>\n",
       "    .dataframe tbody tr th:only-of-type {\n",
       "        vertical-align: middle;\n",
       "    }\n",
       "\n",
       "    .dataframe tbody tr th {\n",
       "        vertical-align: top;\n",
       "    }\n",
       "\n",
       "    .dataframe thead th {\n",
       "        text-align: right;\n",
       "    }\n",
       "</style>\n",
       "<table border=\"1\" class=\"dataframe\">\n",
       "  <thead>\n",
       "    <tr style=\"text-align: right;\">\n",
       "      <th></th>\n",
       "      <th>query</th>\n",
       "      <th>name</th>\n",
       "      <th>distance</th>\n",
       "      <th>address</th>\n",
       "      <th>postal_code</th>\n",
       "      <th>latitude</th>\n",
       "      <th>longitude</th>\n",
       "    </tr>\n",
       "  </thead>\n",
       "  <tbody>\n",
       "    <tr>\n",
       "      <th>0</th>\n",
       "      <td>starbucks</td>\n",
       "      <td>Starbucks</td>\n",
       "      <td>471</td>\n",
       "      <td>398 Market St (Front St)</td>\n",
       "      <td>94111</td>\n",
       "      <td>37.795749</td>\n",
       "      <td>-122.397875</td>\n",
       "    </tr>\n",
       "  </tbody>\n",
       "</table>\n",
       "</div>"
      ],
      "text/plain": [
       "       query       name  distance                   address postal_code  \\\n",
       "0  starbucks  Starbucks       471  398 Market St (Front St)       94111   \n",
       "\n",
       "    latitude   longitude  \n",
       "0  37.795749 -122.397875  "
      ]
     },
     "execution_count": 49,
     "metadata": {},
     "output_type": "execute_result"
    }
   ],
   "source": [
    "df4"
   ]
  },
  {
   "cell_type": "markdown",
   "metadata": {},
   "source": [
    "### Now let's find an airport"
   ]
  },
  {
   "cell_type": "code",
   "execution_count": 50,
   "metadata": {},
   "outputs": [],
   "source": [
    "df5 = getFoursquareFinal(\"airport\")"
   ]
  },
  {
   "cell_type": "code",
   "execution_count": 51,
   "metadata": {},
   "outputs": [
    {
     "data": {
      "text/html": [
       "<div>\n",
       "<style scoped>\n",
       "    .dataframe tbody tr th:only-of-type {\n",
       "        vertical-align: middle;\n",
       "    }\n",
       "\n",
       "    .dataframe tbody tr th {\n",
       "        vertical-align: top;\n",
       "    }\n",
       "\n",
       "    .dataframe thead th {\n",
       "        text-align: right;\n",
       "    }\n",
       "</style>\n",
       "<table border=\"1\" class=\"dataframe\">\n",
       "  <thead>\n",
       "    <tr style=\"text-align: right;\">\n",
       "      <th></th>\n",
       "      <th>query</th>\n",
       "      <th>name</th>\n",
       "      <th>distance</th>\n",
       "      <th>address</th>\n",
       "      <th>postal_code</th>\n",
       "      <th>latitude</th>\n",
       "      <th>longitude</th>\n",
       "    </tr>\n",
       "  </thead>\n",
       "  <tbody>\n",
       "    <tr>\n",
       "      <th>0</th>\n",
       "      <td>airport</td>\n",
       "      <td>San Francisco International Airport (SFO) (San...</td>\n",
       "      <td>20262</td>\n",
       "      <td>N McDonnell Rd (at Link Rd)</td>\n",
       "      <td>94128</td>\n",
       "      <td>37.618063</td>\n",
       "      <td>-122.38574</td>\n",
       "    </tr>\n",
       "  </tbody>\n",
       "</table>\n",
       "</div>"
      ],
      "text/plain": [
       "     query                                               name  distance  \\\n",
       "0  airport  San Francisco International Airport (SFO) (San...     20262   \n",
       "\n",
       "                       address postal_code   latitude  longitude  \n",
       "0  N McDonnell Rd (at Link Rd)       94128  37.618063 -122.38574  "
      ]
     },
     "execution_count": 51,
     "metadata": {},
     "output_type": "execute_result"
    }
   ],
   "source": [
    "df5"
   ]
  },
  {
   "cell_type": "code",
   "execution_count": 78,
   "metadata": {},
   "outputs": [],
   "source": [
    "df6 = getFoursquareFinal(\"OUR OFFICE!\")"
   ]
  },
  {
   "cell_type": "code",
   "execution_count": 79,
   "metadata": {},
   "outputs": [
    {
     "data": {
      "text/html": [
       "<div>\n",
       "<style scoped>\n",
       "    .dataframe tbody tr th:only-of-type {\n",
       "        vertical-align: middle;\n",
       "    }\n",
       "\n",
       "    .dataframe tbody tr th {\n",
       "        vertical-align: top;\n",
       "    }\n",
       "\n",
       "    .dataframe thead th {\n",
       "        text-align: right;\n",
       "    }\n",
       "</style>\n",
       "<table border=\"1\" class=\"dataframe\">\n",
       "  <thead>\n",
       "    <tr style=\"text-align: right;\">\n",
       "      <th></th>\n",
       "      <th>query</th>\n",
       "      <th>name</th>\n",
       "      <th>distance</th>\n",
       "      <th>address</th>\n",
       "      <th>postal_code</th>\n",
       "      <th>latitude</th>\n",
       "      <th>longitude</th>\n",
       "    </tr>\n",
       "  </thead>\n",
       "  <tbody>\n",
       "    <tr>\n",
       "      <th>0</th>\n",
       "      <td>our office</td>\n",
       "      <td>La Mar</td>\n",
       "      <td>529</td>\n",
       "      <td>Pier 1½ (at Washington St)</td>\n",
       "      <td>94111</td>\n",
       "      <td>37.798748</td>\n",
       "      <td>-122.393746</td>\n",
       "    </tr>\n",
       "  </tbody>\n",
       "</table>\n",
       "</div>"
      ],
      "text/plain": [
       "        query    name  distance                     address postal_code  \\\n",
       "0  our office  La Mar       529  Pier 1½ (at Washington St)       94111   \n",
       "\n",
       "    latitude   longitude  \n",
       "0  37.798748 -122.393746  "
      ]
     },
     "execution_count": 79,
     "metadata": {},
     "output_type": "execute_result"
    }
   ],
   "source": [
    "df6"
   ]
  },
  {
   "cell_type": "code",
   "execution_count": 52,
   "metadata": {},
   "outputs": [
    {
     "data": {
      "text/html": [
       "<div>\n",
       "<style scoped>\n",
       "    .dataframe tbody tr th:only-of-type {\n",
       "        vertical-align: middle;\n",
       "    }\n",
       "\n",
       "    .dataframe tbody tr th {\n",
       "        vertical-align: top;\n",
       "    }\n",
       "\n",
       "    .dataframe thead th {\n",
       "        text-align: right;\n",
       "    }\n",
       "</style>\n",
       "<table border=\"1\" class=\"dataframe\">\n",
       "  <thead>\n",
       "    <tr style=\"text-align: right;\">\n",
       "      <th></th>\n",
       "      <th>query</th>\n",
       "      <th>name</th>\n",
       "      <th>distance</th>\n",
       "      <th>address</th>\n",
       "      <th>postal_code</th>\n",
       "      <th>latitude</th>\n",
       "      <th>longitude</th>\n",
       "    </tr>\n",
       "  </thead>\n",
       "  <tbody>\n",
       "    <tr>\n",
       "      <th>0</th>\n",
       "      <td>pub</td>\n",
       "      <td>Old Ship Saloon</td>\n",
       "      <td>250</td>\n",
       "      <td>298 Pacific Ave (at Battery St)</td>\n",
       "      <td>94111</td>\n",
       "      <td>37.799123</td>\n",
       "      <td>-122.399518</td>\n",
       "    </tr>\n",
       "    <tr>\n",
       "      <th>0</th>\n",
       "      <td>bar</td>\n",
       "      <td>Roka | Bar</td>\n",
       "      <td>296</td>\n",
       "      <td>801 Montgomery St (at Jackson St)</td>\n",
       "      <td>94133</td>\n",
       "      <td>37.797683</td>\n",
       "      <td>-122.402462</td>\n",
       "    </tr>\n",
       "    <tr>\n",
       "      <th>0</th>\n",
       "      <td>basketball stadium</td>\n",
       "      <td>Chase Center</td>\n",
       "      <td>3601</td>\n",
       "      <td>1 Warriors Way</td>\n",
       "      <td>94158</td>\n",
       "      <td>37.769214</td>\n",
       "      <td>-122.386110</td>\n",
       "    </tr>\n",
       "    <tr>\n",
       "      <th>0</th>\n",
       "      <td>starbucks</td>\n",
       "      <td>Starbucks</td>\n",
       "      <td>471</td>\n",
       "      <td>398 Market St (Front St)</td>\n",
       "      <td>94111</td>\n",
       "      <td>37.795749</td>\n",
       "      <td>-122.397875</td>\n",
       "    </tr>\n",
       "    <tr>\n",
       "      <th>0</th>\n",
       "      <td>airport</td>\n",
       "      <td>San Francisco International Airport (SFO) (San...</td>\n",
       "      <td>20262</td>\n",
       "      <td>N McDonnell Rd (at Link Rd)</td>\n",
       "      <td>94128</td>\n",
       "      <td>37.618063</td>\n",
       "      <td>-122.385740</td>\n",
       "    </tr>\n",
       "  </tbody>\n",
       "</table>\n",
       "</div>"
      ],
      "text/plain": [
       "                query                                               name  \\\n",
       "0                 pub                                    Old Ship Saloon   \n",
       "0                 bar                                         Roka | Bar   \n",
       "0  basketball stadium                                       Chase Center   \n",
       "0           starbucks                                          Starbucks   \n",
       "0             airport  San Francisco International Airport (SFO) (San...   \n",
       "\n",
       "   distance                            address postal_code   latitude  \\\n",
       "0       250    298 Pacific Ave (at Battery St)       94111  37.799123   \n",
       "0       296  801 Montgomery St (at Jackson St)       94133  37.797683   \n",
       "0      3601                     1 Warriors Way       94158  37.769214   \n",
       "0       471           398 Market St (Front St)       94111  37.795749   \n",
       "0     20262        N McDonnell Rd (at Link Rd)       94128  37.618063   \n",
       "\n",
       "    longitude  \n",
       "0 -122.399518  \n",
       "0 -122.402462  \n",
       "0 -122.386110  \n",
       "0 -122.397875  \n",
       "0 -122.385740  "
      ]
     },
     "execution_count": 52,
     "metadata": {},
     "output_type": "execute_result"
    }
   ],
   "source": [
    "frames = [df1, df2, df3, df4, df5]\n",
    "final = pd.concat(frames)\n",
    "final"
   ]
  },
  {
   "cell_type": "code",
   "execution_count": 53,
   "metadata": {},
   "outputs": [],
   "source": [
    "from folium import Map, Marker, Icon, FeatureGroup, LayerControl, Choropleth"
   ]
  },
  {
   "cell_type": "code",
   "execution_count": null,
   "metadata": {},
   "outputs": [],
   "source": [
    "#37.798403,-122.400990"
   ]
  },
  {
   "cell_type": "code",
   "execution_count": 86,
   "metadata": {},
   "outputs": [
    {
     "data": {
      "text/html": [
       "<div style=\"width:100%;\"><div style=\"position:relative;width:100%;height:0;padding-bottom:60%;\"><span style=\"color:#565656\">Make this Notebook Trusted to load map: File -> Trust Notebook</span><iframe src=\"about:blank\" style=\"position:absolute;width:100%;height:100%;left:0;top:0;border:none !important;\" data-html=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 onload=\"this.contentDocument.open();this.contentDocument.write(atob(this.getAttribute('data-html')));this.contentDocument.close();\" allowfullscreen webkitallowfullscreen mozallowfullscreen></iframe></div></div>"
      ],
      "text/plain": [
       "<folium.folium.Map at 0x11b680e10>"
      ]
     },
     "execution_count": 86,
     "metadata": {},
     "output_type": "execute_result"
    }
   ],
   "source": [
    "m = Map(location=[37.798403,-122.400990],zoom_start=10)\n",
    "Marker(location=[37.798403,-122.400990], tooltip=\"Our Office!!!\", popup='Our Office!!').add_to(m)\n",
    "for i, row in final.iterrows():\n",
    "    icon = Icon(\n",
    "                color=\"red\",\n",
    "                prefix=\"fa\",\n",
    "                icon=\"flag\"\n",
    "            )\n",
    "    Marker(\n",
    "        location=row[[\"latitude\",\"longitude\"]],\n",
    "        tooltip=row[\"query\"],\n",
    "        popup=row[\"name\"],\n",
    "        icon=icon\n",
    "    ).add_to(m)\n",
    "    \n",
    "m"
   ]
  },
  {
   "cell_type": "code",
   "execution_count": null,
   "metadata": {},
   "outputs": [],
   "source": []
  },
  {
   "cell_type": "code",
   "execution_count": null,
   "metadata": {},
   "outputs": [],
   "source": []
  },
  {
   "cell_type": "code",
   "execution_count": null,
   "metadata": {},
   "outputs": [],
   "source": []
  },
  {
   "cell_type": "code",
   "execution_count": null,
   "metadata": {},
   "outputs": [],
   "source": []
  }
 ],
 "metadata": {
  "kernelspec": {
   "display_name": "Python 3",
   "language": "python",
   "name": "python3"
  },
  "language_info": {
   "codemirror_mode": {
    "name": "ipython",
    "version": 3
   },
   "file_extension": ".py",
   "mimetype": "text/x-python",
   "name": "python",
   "nbconvert_exporter": "python",
   "pygments_lexer": "ipython3",
   "version": "3.7.7"
  }
 },
 "nbformat": 4,
 "nbformat_minor": 4
}

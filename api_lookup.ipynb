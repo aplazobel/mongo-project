{
 "cells": [
  {
   "cell_type": "code",
   "execution_count": 1,
   "metadata": {},
   "outputs": [],
   "source": [
    "import pandas as pd\n",
    "from pymongo import MongoClient\n",
    "import json, requests\n",
    "import os\n",
    "from dotenv import load_dotenv\n",
    "load_dotenv()\n",
    "import requests\n",
    "from pandas.io.json import json_normalize"
   ]
  },
  {
   "cell_type": "code",
   "execution_count": 13,
   "metadata": {},
   "outputs": [],
   "source": [
    "def getFromApi(search):    \n",
    "    url = 'https://api.foursquare.com/v2/venues/explore'\n",
    "    params = dict(\n",
    "    client_id=os.getenv('CLIENT_ID'),\n",
    "    client_secret=os.getenv('CLIENT_SECRET'),\n",
    "    v='20180323',\n",
    "    ll='37.795531,-122.400598',\n",
    "    query=search,\n",
    "    limit=1\n",
    "    )\n",
    "    resp = requests.get(url=url, params=params)\n",
    "    data = json.loads(resp.text)\n",
    "    df_api = pd.DataFrame([{\n",
    "        'Query' : data['response']['query'],\n",
    "        'Total Results' : data['response']['totalResults'],\n",
    "        'Name': data['response']['groups'][0]['items'][0]['venue']['name'],\n",
    "        'Distance' :data['response']['groups'][0]['items'][0]['venue']['location']['distance'],\n",
    "        'Address': data['response']['groups'][0]['items'][0]['venue']['location']['formattedAddress'][0],\n",
    "        'Postal Code':data['response']['groups'][0]['items'][0]['venue']['location']['postalCode'],\n",
    "        'Latitude' : data['response']['suggestedBounds']['ne']['lat'],\n",
    "        'longitude' : data['response']['suggestedBounds']['ne']['lng'] }])\n",
    "    return df_api"
   ]
  },
  {
   "cell_type": "code",
   "execution_count": 16,
   "metadata": {},
   "outputs": [],
   "source": [
    "df1 = getFromApi(\"nightclub\")"
   ]
  },
  {
   "cell_type": "code",
   "execution_count": 17,
   "metadata": {},
   "outputs": [
    {
     "data": {
      "text/html": [
       "<div>\n",
       "<style scoped>\n",
       "    .dataframe tbody tr th:only-of-type {\n",
       "        vertical-align: middle;\n",
       "    }\n",
       "\n",
       "    .dataframe tbody tr th {\n",
       "        vertical-align: top;\n",
       "    }\n",
       "\n",
       "    .dataframe thead th {\n",
       "        text-align: right;\n",
       "    }\n",
       "</style>\n",
       "<table border=\"1\" class=\"dataframe\">\n",
       "  <thead>\n",
       "    <tr style=\"text-align: right;\">\n",
       "      <th></th>\n",
       "      <th>Query</th>\n",
       "      <th>Total Results</th>\n",
       "      <th>Name</th>\n",
       "      <th>Distance</th>\n",
       "      <th>Address</th>\n",
       "      <th>Postal Code</th>\n",
       "      <th>Latitude</th>\n",
       "      <th>longitude</th>\n",
       "    </tr>\n",
       "  </thead>\n",
       "  <tbody>\n",
       "    <tr>\n",
       "      <th>0</th>\n",
       "      <td>nightclub</td>\n",
       "      <td>24</td>\n",
       "      <td>Tunnel Top</td>\n",
       "      <td>826</td>\n",
       "      <td>601 Bush St (at Stockton St)</td>\n",
       "      <td>94108</td>\n",
       "      <td>37.791628</td>\n",
       "      <td>-122.405881</td>\n",
       "    </tr>\n",
       "  </tbody>\n",
       "</table>\n",
       "</div>"
      ],
      "text/plain": [
       "       Query  Total Results        Name  Distance  \\\n",
       "0  nightclub             24  Tunnel Top       826   \n",
       "\n",
       "                        Address Postal Code   Latitude   longitude  \n",
       "0  601 Bush St (at Stockton St)       94108  37.791628 -122.405881  "
      ]
     },
     "execution_count": 17,
     "metadata": {},
     "output_type": "execute_result"
    }
   ],
   "source": [
    "df1"
   ]
  },
  {
   "cell_type": "code",
   "execution_count": null,
   "metadata": {},
   "outputs": [],
   "source": [
    "df2 = getFromApi"
   ]
  }
 ],
 "metadata": {
  "kernelspec": {
   "display_name": "Python 3",
   "language": "python",
   "name": "python3"
  },
  "language_info": {
   "codemirror_mode": {
    "name": "ipython",
    "version": 3
   },
   "file_extension": ".py",
   "mimetype": "text/x-python",
   "name": "python",
   "nbconvert_exporter": "python",
   "pygments_lexer": "ipython3",
   "version": "3.7.7"
  }
 },
 "nbformat": 4,
 "nbformat_minor": 4
}

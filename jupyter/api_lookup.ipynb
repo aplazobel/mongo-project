{
 "cells": [
  {
   "cell_type": "code",
   "execution_count": 1,
   "metadata": {},
   "outputs": [],
   "source": [
    "import pandas as pd\n",
    "from pymongo import MongoClient\n",
    "import json, requests\n",
    "import os\n",
    "from dotenv import load_dotenv\n",
    "load_dotenv()\n",
    "import requests\n",
    "from pandas.io.json import json_normalize"
   ]
  },
  {
   "cell_type": "markdown",
   "metadata": {},
   "source": [
    "### Let's define a function that gets the nearest result from the Foursquare Api looking from the coordinates of the design office of 99Design in California. "
   ]
  },
  {
   "cell_type": "code",
   "execution_count": 2,
   "metadata": {},
   "outputs": [],
   "source": [
    "def getFoursquare(search):    \n",
    "    url = 'https://api.foursquare.com/v2/venues/explore'\n",
    "    params = dict(\n",
    "    client_id=os.getenv('CLIENT_ID'),\n",
    "    client_secret=os.getenv('CLIENT_SECRET'),\n",
    "    v='20180323',\n",
    "    ll='37.795531,-122.400598',\n",
    "    query=search,\n",
    "    limit=1\n",
    "    )\n",
    "    resp = requests.get(url=url, params=params)\n",
    "    data = json.loads(resp.text)\n",
    "    df_api = pd.DataFrame([{\n",
    "        'query' : data['response']['query'],\n",
    "        'name': data['response']['groups'][0]['items'][0]['venue']['name'],\n",
    "        'distance' :data['response']['groups'][0]['items'][0]['venue']['location']['distance'],\n",
    "        'address': data['response']['groups'][0]['items'][0]['venue']['location']['formattedAddress'][0],\n",
    "        'postal_code':data['response']['groups'][0]['items'][0]['venue']['location']['postalCode'],\n",
    "        'latitude' : data['response']['suggestedBounds']['ne']['lat'],\n",
    "        'longitude' : data['response']['suggestedBounds']['ne']['lng'] }])\n",
    "    return df_api"
   ]
  },
  {
   "cell_type": "markdown",
   "metadata": {},
   "source": [
    "### From the requirements we see that the most important one (the one that affect every person in the company) is the place to party. So i am going to launch a query search looking for the nearest pub and bar and find a midpoint in between both of them and use that as the default coordinates so that the office is right next to the pub and bar therefore giving the people two places to party"
   ]
  },
  {
   "cell_type": "code",
   "execution_count": 3,
   "metadata": {},
   "outputs": [],
   "source": [
    "df1 = getFoursquare(\"pub\")"
   ]
  },
  {
   "cell_type": "code",
   "execution_count": 4,
   "metadata": {},
   "outputs": [
    {
     "data": {
      "text/html": [
       "<div>\n",
       "<style scoped>\n",
       "    .dataframe tbody tr th:only-of-type {\n",
       "        vertical-align: middle;\n",
       "    }\n",
       "\n",
       "    .dataframe tbody tr th {\n",
       "        vertical-align: top;\n",
       "    }\n",
       "\n",
       "    .dataframe thead th {\n",
       "        text-align: right;\n",
       "    }\n",
       "</style>\n",
       "<table border=\"1\" class=\"dataframe\">\n",
       "  <thead>\n",
       "    <tr style=\"text-align: right;\">\n",
       "      <th></th>\n",
       "      <th>query</th>\n",
       "      <th>name</th>\n",
       "      <th>distance</th>\n",
       "      <th>address</th>\n",
       "      <th>postal_code</th>\n",
       "      <th>latitude</th>\n",
       "      <th>longitude</th>\n",
       "    </tr>\n",
       "  </thead>\n",
       "  <tbody>\n",
       "    <tr>\n",
       "      <th>0</th>\n",
       "      <td>pub</td>\n",
       "      <td>Old Ship Saloon</td>\n",
       "      <td>250</td>\n",
       "      <td>298 Pacific Ave (at Battery St)</td>\n",
       "      <td>94111</td>\n",
       "      <td>37.799123</td>\n",
       "      <td>-122.399518</td>\n",
       "    </tr>\n",
       "  </tbody>\n",
       "</table>\n",
       "</div>"
      ],
      "text/plain": [
       "  query             name  distance                          address  \\\n",
       "0   pub  Old Ship Saloon       250  298 Pacific Ave (at Battery St)   \n",
       "\n",
       "  postal_code   latitude   longitude  \n",
       "0       94111  37.799123 -122.399518  "
      ]
     },
     "execution_count": 4,
     "metadata": {},
     "output_type": "execute_result"
    }
   ],
   "source": [
    "df1"
   ]
  },
  {
   "cell_type": "code",
   "execution_count": 5,
   "metadata": {},
   "outputs": [],
   "source": [
    "df2 = getFoursquare(\"bar\")"
   ]
  },
  {
   "cell_type": "code",
   "execution_count": 6,
   "metadata": {},
   "outputs": [
    {
     "data": {
      "text/html": [
       "<div>\n",
       "<style scoped>\n",
       "    .dataframe tbody tr th:only-of-type {\n",
       "        vertical-align: middle;\n",
       "    }\n",
       "\n",
       "    .dataframe tbody tr th {\n",
       "        vertical-align: top;\n",
       "    }\n",
       "\n",
       "    .dataframe thead th {\n",
       "        text-align: right;\n",
       "    }\n",
       "</style>\n",
       "<table border=\"1\" class=\"dataframe\">\n",
       "  <thead>\n",
       "    <tr style=\"text-align: right;\">\n",
       "      <th></th>\n",
       "      <th>query</th>\n",
       "      <th>name</th>\n",
       "      <th>distance</th>\n",
       "      <th>address</th>\n",
       "      <th>postal_code</th>\n",
       "      <th>latitude</th>\n",
       "      <th>longitude</th>\n",
       "    </tr>\n",
       "  </thead>\n",
       "  <tbody>\n",
       "    <tr>\n",
       "      <th>0</th>\n",
       "      <td>bar</td>\n",
       "      <td>Roka | Bar</td>\n",
       "      <td>296</td>\n",
       "      <td>801 Montgomery St (at Jackson St)</td>\n",
       "      <td>94133</td>\n",
       "      <td>37.797683</td>\n",
       "      <td>-122.402462</td>\n",
       "    </tr>\n",
       "  </tbody>\n",
       "</table>\n",
       "</div>"
      ],
      "text/plain": [
       "  query        name  distance                            address postal_code  \\\n",
       "0   bar  Roka | Bar       296  801 Montgomery St (at Jackson St)       94133   \n",
       "\n",
       "    latitude   longitude  \n",
       "0  37.797683 -122.402462  "
      ]
     },
     "execution_count": 6,
     "metadata": {},
     "output_type": "execute_result"
    }
   ],
   "source": [
    "df2"
   ]
  },
  {
   "cell_type": "markdown",
   "metadata": {},
   "source": [
    "From this we see the cordinates of the bar and pub. Let's find the midpoint"
   ]
  },
  {
   "cell_type": "code",
   "execution_count": 7,
   "metadata": {},
   "outputs": [],
   "source": [
    "#For the pub\n",
    "lat1= 37.799123\n",
    "lon1= -122.399518"
   ]
  },
  {
   "cell_type": "code",
   "execution_count": 8,
   "metadata": {},
   "outputs": [],
   "source": [
    "#For the bar\n",
    "lat2= 37.797683\t\n",
    "lon2= -122.402462"
   ]
  },
  {
   "cell_type": "code",
   "execution_count": 9,
   "metadata": {},
   "outputs": [
    {
     "data": {
      "text/plain": [
       "37.798403"
      ]
     },
     "execution_count": 9,
     "metadata": {},
     "output_type": "execute_result"
    }
   ],
   "source": [
    "lat_final = (lat1+lat2)/2\n",
    "lat_final"
   ]
  },
  {
   "cell_type": "code",
   "execution_count": 10,
   "metadata": {},
   "outputs": [
    {
     "data": {
      "text/plain": [
       "-122.40099000000001"
      ]
     },
     "execution_count": 10,
     "metadata": {},
     "output_type": "execute_result"
    }
   ],
   "source": [
    "lon_final= (lon1+lon2)/2\n",
    "lon_final"
   ]
  },
  {
   "cell_type": "markdown",
   "metadata": {},
   "source": [
    "### Now we redefine the first function with our office coordinates which are the ones above"
   ]
  },
  {
   "cell_type": "code",
   "execution_count": 11,
   "metadata": {},
   "outputs": [],
   "source": [
    "def getFoursquareFinal(search):    \n",
    "    url = 'https://api.foursquare.com/v2/venues/explore'\n",
    "    params = dict(\n",
    "    client_id=os.getenv('CLIENT_ID'),\n",
    "    client_secret=os.getenv('CLIENT_SECRET'),\n",
    "    v='20180323',\n",
    "    ll='37.798403,-122.400990',\n",
    "    query=search,\n",
    "    limit=1\n",
    "    )\n",
    "    resp = requests.get(url=url, params=params)\n",
    "    data = json.loads(resp.text)\n",
    "    df_api = pd.DataFrame([{\n",
    "        'query' : data['response']['query'],\n",
    "        'name': data['response']['groups'][0]['items'][0]['venue']['name'],\n",
    "        'distance' :data['response']['groups'][0]['items'][0]['venue']['location']['distance'],\n",
    "        'address': data['response']['groups'][0]['items'][0]['venue']['location']['formattedAddress'][0],\n",
    "        'postal_code':data['response']['groups'][0]['items'][0]['venue']['location']['postalCode'],\n",
    "        'latitude' : data['response']['suggestedBounds']['ne']['lat'],\n",
    "        'longitude' : data['response']['suggestedBounds']['ne']['lng'] }])\n",
    "    return df_api"
   ]
  },
  {
   "cell_type": "markdown",
   "metadata": {},
   "source": [
    "### Now let's look for the basketball stadium, which should be where the Golden State Warrios play, the Chase Center"
   ]
  },
  {
   "cell_type": "code",
   "execution_count": 12,
   "metadata": {},
   "outputs": [],
   "source": [
    "df3 = getFoursquareFinal(\"basketball stadium\")"
   ]
  },
  {
   "cell_type": "code",
   "execution_count": 13,
   "metadata": {},
   "outputs": [
    {
     "data": {
      "text/html": [
       "<div>\n",
       "<style scoped>\n",
       "    .dataframe tbody tr th:only-of-type {\n",
       "        vertical-align: middle;\n",
       "    }\n",
       "\n",
       "    .dataframe tbody tr th {\n",
       "        vertical-align: top;\n",
       "    }\n",
       "\n",
       "    .dataframe thead th {\n",
       "        text-align: right;\n",
       "    }\n",
       "</style>\n",
       "<table border=\"1\" class=\"dataframe\">\n",
       "  <thead>\n",
       "    <tr style=\"text-align: right;\">\n",
       "      <th></th>\n",
       "      <th>query</th>\n",
       "      <th>name</th>\n",
       "      <th>distance</th>\n",
       "      <th>address</th>\n",
       "      <th>postal_code</th>\n",
       "      <th>latitude</th>\n",
       "      <th>longitude</th>\n",
       "    </tr>\n",
       "  </thead>\n",
       "  <tbody>\n",
       "    <tr>\n",
       "      <th>0</th>\n",
       "      <td>basketball stadium</td>\n",
       "      <td>Chase Center</td>\n",
       "      <td>3601</td>\n",
       "      <td>1 Warriors Way</td>\n",
       "      <td>94158</td>\n",
       "      <td>37.769214</td>\n",
       "      <td>-122.38611</td>\n",
       "    </tr>\n",
       "  </tbody>\n",
       "</table>\n",
       "</div>"
      ],
      "text/plain": [
       "                query          name  distance         address postal_code  \\\n",
       "0  basketball stadium  Chase Center      3601  1 Warriors Way       94158   \n",
       "\n",
       "    latitude  longitude  \n",
       "0  37.769214 -122.38611  "
      ]
     },
     "execution_count": 13,
     "metadata": {},
     "output_type": "execute_result"
    }
   ],
   "source": [
    "df3"
   ]
  },
  {
   "cell_type": "markdown",
   "metadata": {},
   "source": [
    "### Now let's find the closest starbucks"
   ]
  },
  {
   "cell_type": "code",
   "execution_count": 14,
   "metadata": {},
   "outputs": [],
   "source": [
    "df4 = getFoursquareFinal(\"starbucks\")"
   ]
  },
  {
   "cell_type": "code",
   "execution_count": 15,
   "metadata": {},
   "outputs": [
    {
     "data": {
      "text/html": [
       "<div>\n",
       "<style scoped>\n",
       "    .dataframe tbody tr th:only-of-type {\n",
       "        vertical-align: middle;\n",
       "    }\n",
       "\n",
       "    .dataframe tbody tr th {\n",
       "        vertical-align: top;\n",
       "    }\n",
       "\n",
       "    .dataframe thead th {\n",
       "        text-align: right;\n",
       "    }\n",
       "</style>\n",
       "<table border=\"1\" class=\"dataframe\">\n",
       "  <thead>\n",
       "    <tr style=\"text-align: right;\">\n",
       "      <th></th>\n",
       "      <th>query</th>\n",
       "      <th>name</th>\n",
       "      <th>distance</th>\n",
       "      <th>address</th>\n",
       "      <th>postal_code</th>\n",
       "      <th>latitude</th>\n",
       "      <th>longitude</th>\n",
       "    </tr>\n",
       "  </thead>\n",
       "  <tbody>\n",
       "    <tr>\n",
       "      <th>0</th>\n",
       "      <td>starbucks</td>\n",
       "      <td>Starbucks</td>\n",
       "      <td>471</td>\n",
       "      <td>398 Market St (Front St)</td>\n",
       "      <td>94111</td>\n",
       "      <td>37.795749</td>\n",
       "      <td>-122.397875</td>\n",
       "    </tr>\n",
       "  </tbody>\n",
       "</table>\n",
       "</div>"
      ],
      "text/plain": [
       "       query       name  distance                   address postal_code  \\\n",
       "0  starbucks  Starbucks       471  398 Market St (Front St)       94111   \n",
       "\n",
       "    latitude   longitude  \n",
       "0  37.795749 -122.397875  "
      ]
     },
     "execution_count": 15,
     "metadata": {},
     "output_type": "execute_result"
    }
   ],
   "source": [
    "df4"
   ]
  },
  {
   "cell_type": "markdown",
   "metadata": {},
   "source": [
    "### Now let's find an airport"
   ]
  },
  {
   "cell_type": "code",
   "execution_count": 16,
   "metadata": {},
   "outputs": [],
   "source": [
    "df5 = getFoursquareFinal(\"airport\")"
   ]
  },
  {
   "cell_type": "code",
   "execution_count": 17,
   "metadata": {},
   "outputs": [
    {
     "data": {
      "text/html": [
       "<div>\n",
       "<style scoped>\n",
       "    .dataframe tbody tr th:only-of-type {\n",
       "        vertical-align: middle;\n",
       "    }\n",
       "\n",
       "    .dataframe tbody tr th {\n",
       "        vertical-align: top;\n",
       "    }\n",
       "\n",
       "    .dataframe thead th {\n",
       "        text-align: right;\n",
       "    }\n",
       "</style>\n",
       "<table border=\"1\" class=\"dataframe\">\n",
       "  <thead>\n",
       "    <tr style=\"text-align: right;\">\n",
       "      <th></th>\n",
       "      <th>query</th>\n",
       "      <th>name</th>\n",
       "      <th>distance</th>\n",
       "      <th>address</th>\n",
       "      <th>postal_code</th>\n",
       "      <th>latitude</th>\n",
       "      <th>longitude</th>\n",
       "    </tr>\n",
       "  </thead>\n",
       "  <tbody>\n",
       "    <tr>\n",
       "      <th>0</th>\n",
       "      <td>airport</td>\n",
       "      <td>San Francisco International Airport (SFO) (San...</td>\n",
       "      <td>20262</td>\n",
       "      <td>N McDonnell Rd (at Link Rd)</td>\n",
       "      <td>94128</td>\n",
       "      <td>37.618063</td>\n",
       "      <td>-122.38574</td>\n",
       "    </tr>\n",
       "  </tbody>\n",
       "</table>\n",
       "</div>"
      ],
      "text/plain": [
       "     query                                               name  distance  \\\n",
       "0  airport  San Francisco International Airport (SFO) (San...     20262   \n",
       "\n",
       "                       address postal_code   latitude  longitude  \n",
       "0  N McDonnell Rd (at Link Rd)       94128  37.618063 -122.38574  "
      ]
     },
     "execution_count": 17,
     "metadata": {},
     "output_type": "execute_result"
    }
   ],
   "source": [
    "df5"
   ]
  },
  {
   "cell_type": "code",
   "execution_count": 45,
   "metadata": {},
   "outputs": [],
   "source": [
    "df6 = getFoursquareFinal(\"vegan restaurant\")"
   ]
  },
  {
   "cell_type": "code",
   "execution_count": 46,
   "metadata": {},
   "outputs": [
    {
     "data": {
      "text/html": [
       "<div>\n",
       "<style scoped>\n",
       "    .dataframe tbody tr th:only-of-type {\n",
       "        vertical-align: middle;\n",
       "    }\n",
       "\n",
       "    .dataframe tbody tr th {\n",
       "        vertical-align: top;\n",
       "    }\n",
       "\n",
       "    .dataframe thead th {\n",
       "        text-align: right;\n",
       "    }\n",
       "</style>\n",
       "<table border=\"1\" class=\"dataframe\">\n",
       "  <thead>\n",
       "    <tr style=\"text-align: right;\">\n",
       "      <th></th>\n",
       "      <th>query</th>\n",
       "      <th>name</th>\n",
       "      <th>distance</th>\n",
       "      <th>address</th>\n",
       "      <th>postal_code</th>\n",
       "      <th>latitude</th>\n",
       "      <th>longitude</th>\n",
       "    </tr>\n",
       "  </thead>\n",
       "  <tbody>\n",
       "    <tr>\n",
       "      <th>0</th>\n",
       "      <td>vegan restaurant</td>\n",
       "      <td>Enjoy Vegetarian Restaurant</td>\n",
       "      <td>460</td>\n",
       "      <td>839 Kearny St (at Washington St.)</td>\n",
       "      <td>94108</td>\n",
       "      <td>37.797183</td>\n",
       "      <td>-122.403737</td>\n",
       "    </tr>\n",
       "  </tbody>\n",
       "</table>\n",
       "</div>"
      ],
      "text/plain": [
       "              query                         name  distance  \\\n",
       "0  vegan restaurant  Enjoy Vegetarian Restaurant       460   \n",
       "\n",
       "                             address postal_code   latitude   longitude  \n",
       "0  839 Kearny St (at Washington St.)       94108  37.797183 -122.403737  "
      ]
     },
     "execution_count": 46,
     "metadata": {},
     "output_type": "execute_result"
    }
   ],
   "source": [
    "df6"
   ]
  },
  {
   "cell_type": "code",
   "execution_count": 30,
   "metadata": {},
   "outputs": [],
   "source": [
    "df7 = getFoursquareFinal(\"dog hairdresser\")"
   ]
  },
  {
   "cell_type": "code",
   "execution_count": 31,
   "metadata": {},
   "outputs": [
    {
     "data": {
      "text/html": [
       "<div>\n",
       "<style scoped>\n",
       "    .dataframe tbody tr th:only-of-type {\n",
       "        vertical-align: middle;\n",
       "    }\n",
       "\n",
       "    .dataframe tbody tr th {\n",
       "        vertical-align: top;\n",
       "    }\n",
       "\n",
       "    .dataframe thead th {\n",
       "        text-align: right;\n",
       "    }\n",
       "</style>\n",
       "<table border=\"1\" class=\"dataframe\">\n",
       "  <thead>\n",
       "    <tr style=\"text-align: right;\">\n",
       "      <th></th>\n",
       "      <th>query</th>\n",
       "      <th>name</th>\n",
       "      <th>distance</th>\n",
       "      <th>address</th>\n",
       "      <th>postal_code</th>\n",
       "      <th>latitude</th>\n",
       "      <th>longitude</th>\n",
       "    </tr>\n",
       "  </thead>\n",
       "  <tbody>\n",
       "    <tr>\n",
       "      <th>0</th>\n",
       "      <td>dog hairdresser</td>\n",
       "      <td>Tom's Beautiful Hair</td>\n",
       "      <td>994</td>\n",
       "      <td>701 Greenwich St (Powell)</td>\n",
       "      <td>94133</td>\n",
       "      <td>37.803408</td>\n",
       "      <td>-122.409947</td>\n",
       "    </tr>\n",
       "  </tbody>\n",
       "</table>\n",
       "</div>"
      ],
      "text/plain": [
       "             query                  name  distance                    address  \\\n",
       "0  dog hairdresser  Tom's Beautiful Hair       994  701 Greenwich St (Powell)   \n",
       "\n",
       "  postal_code   latitude   longitude  \n",
       "0       94133  37.803408 -122.409947  "
      ]
     },
     "execution_count": 31,
     "metadata": {},
     "output_type": "execute_result"
    }
   ],
   "source": [
    "df7"
   ]
  },
  {
   "cell_type": "code",
   "execution_count": 47,
   "metadata": {},
   "outputs": [
    {
     "data": {
      "text/html": [
       "<div>\n",
       "<style scoped>\n",
       "    .dataframe tbody tr th:only-of-type {\n",
       "        vertical-align: middle;\n",
       "    }\n",
       "\n",
       "    .dataframe tbody tr th {\n",
       "        vertical-align: top;\n",
       "    }\n",
       "\n",
       "    .dataframe thead th {\n",
       "        text-align: right;\n",
       "    }\n",
       "</style>\n",
       "<table border=\"1\" class=\"dataframe\">\n",
       "  <thead>\n",
       "    <tr style=\"text-align: right;\">\n",
       "      <th></th>\n",
       "      <th>query</th>\n",
       "      <th>name</th>\n",
       "      <th>distance</th>\n",
       "      <th>address</th>\n",
       "      <th>postal_code</th>\n",
       "      <th>latitude</th>\n",
       "      <th>longitude</th>\n",
       "    </tr>\n",
       "  </thead>\n",
       "  <tbody>\n",
       "    <tr>\n",
       "      <th>0</th>\n",
       "      <td>pub</td>\n",
       "      <td>Old Ship Saloon</td>\n",
       "      <td>250</td>\n",
       "      <td>298 Pacific Ave (at Battery St)</td>\n",
       "      <td>94111</td>\n",
       "      <td>37.799123</td>\n",
       "      <td>-122.399518</td>\n",
       "    </tr>\n",
       "    <tr>\n",
       "      <th>0</th>\n",
       "      <td>bar</td>\n",
       "      <td>Roka | Bar</td>\n",
       "      <td>296</td>\n",
       "      <td>801 Montgomery St (at Jackson St)</td>\n",
       "      <td>94133</td>\n",
       "      <td>37.797683</td>\n",
       "      <td>-122.402462</td>\n",
       "    </tr>\n",
       "    <tr>\n",
       "      <th>0</th>\n",
       "      <td>basketball stadium</td>\n",
       "      <td>Chase Center</td>\n",
       "      <td>3601</td>\n",
       "      <td>1 Warriors Way</td>\n",
       "      <td>94158</td>\n",
       "      <td>37.769214</td>\n",
       "      <td>-122.386110</td>\n",
       "    </tr>\n",
       "    <tr>\n",
       "      <th>0</th>\n",
       "      <td>starbucks</td>\n",
       "      <td>Starbucks</td>\n",
       "      <td>471</td>\n",
       "      <td>398 Market St (Front St)</td>\n",
       "      <td>94111</td>\n",
       "      <td>37.795749</td>\n",
       "      <td>-122.397875</td>\n",
       "    </tr>\n",
       "    <tr>\n",
       "      <th>0</th>\n",
       "      <td>airport</td>\n",
       "      <td>San Francisco International Airport (SFO) (San...</td>\n",
       "      <td>20262</td>\n",
       "      <td>N McDonnell Rd (at Link Rd)</td>\n",
       "      <td>94128</td>\n",
       "      <td>37.618063</td>\n",
       "      <td>-122.385740</td>\n",
       "    </tr>\n",
       "    <tr>\n",
       "      <th>0</th>\n",
       "      <td>vegan restaurant</td>\n",
       "      <td>Enjoy Vegetarian Restaurant</td>\n",
       "      <td>460</td>\n",
       "      <td>839 Kearny St (at Washington St.)</td>\n",
       "      <td>94108</td>\n",
       "      <td>37.797183</td>\n",
       "      <td>-122.403737</td>\n",
       "    </tr>\n",
       "    <tr>\n",
       "      <th>0</th>\n",
       "      <td>dog hairdresser</td>\n",
       "      <td>Tom's Beautiful Hair</td>\n",
       "      <td>994</td>\n",
       "      <td>701 Greenwich St (Powell)</td>\n",
       "      <td>94133</td>\n",
       "      <td>37.803408</td>\n",
       "      <td>-122.409947</td>\n",
       "    </tr>\n",
       "  </tbody>\n",
       "</table>\n",
       "</div>"
      ],
      "text/plain": [
       "                query                                               name  \\\n",
       "0                 pub                                    Old Ship Saloon   \n",
       "0                 bar                                         Roka | Bar   \n",
       "0  basketball stadium                                       Chase Center   \n",
       "0           starbucks                                          Starbucks   \n",
       "0             airport  San Francisco International Airport (SFO) (San...   \n",
       "0    vegan restaurant                        Enjoy Vegetarian Restaurant   \n",
       "0     dog hairdresser                               Tom's Beautiful Hair   \n",
       "\n",
       "   distance                            address postal_code   latitude  \\\n",
       "0       250    298 Pacific Ave (at Battery St)       94111  37.799123   \n",
       "0       296  801 Montgomery St (at Jackson St)       94133  37.797683   \n",
       "0      3601                     1 Warriors Way       94158  37.769214   \n",
       "0       471           398 Market St (Front St)       94111  37.795749   \n",
       "0     20262        N McDonnell Rd (at Link Rd)       94128  37.618063   \n",
       "0       460  839 Kearny St (at Washington St.)       94108  37.797183   \n",
       "0       994          701 Greenwich St (Powell)       94133  37.803408   \n",
       "\n",
       "    longitude  \n",
       "0 -122.399518  \n",
       "0 -122.402462  \n",
       "0 -122.386110  \n",
       "0 -122.397875  \n",
       "0 -122.385740  \n",
       "0 -122.403737  \n",
       "0 -122.409947  "
      ]
     },
     "execution_count": 47,
     "metadata": {},
     "output_type": "execute_result"
    }
   ],
   "source": [
    "frames = [df1, df2, df3, df4, df5, df6, df7]\n",
    "final = pd.concat(frames)\n",
    "final"
   ]
  },
  {
   "cell_type": "code",
   "execution_count": 33,
   "metadata": {},
   "outputs": [],
   "source": [
    "from folium import Map, Marker, Icon, FeatureGroup, LayerControl, Choropleth"
   ]
  },
  {
   "cell_type": "code",
   "execution_count": 34,
   "metadata": {},
   "outputs": [],
   "source": [
    "#37.798403,-122.400990"
   ]
  },
  {
   "cell_type": "code",
   "execution_count": 48,
   "metadata": {},
   "outputs": [
    {
     "data": {
      "text/html": [
       "<div style=\"width:100%;\"><div style=\"position:relative;width:100%;height:0;padding-bottom:60%;\"><span style=\"color:#565656\">Make this Notebook Trusted to load map: File -> Trust Notebook</span><iframe src=\"about:blank\" style=\"position:absolute;width:100%;height:100%;left:0;top:0;border:none !important;\" data-html=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 onload=\"this.contentDocument.open();this.contentDocument.write(atob(this.getAttribute('data-html')));this.contentDocument.close();\" allowfullscreen webkitallowfullscreen mozallowfullscreen></iframe></div></div>"
      ],
      "text/plain": [
       "<folium.folium.Map at 0x11fa6ac10>"
      ]
     },
     "execution_count": 48,
     "metadata": {},
     "output_type": "execute_result"
    }
   ],
   "source": [
    "m = Map(location=[37.798403,-122.400990],zoom_start=10)\n",
    "Marker(location=[37.798403,-122.400990], tooltip=\"Our Office!!!\", popup='Our Office!!').add_to(m)\n",
    "for i, row in final.iterrows():\n",
    "    icon = Icon(\n",
    "                color=\"red\",\n",
    "                prefix=\"fa\",\n",
    "                icon=\"flag\"\n",
    "            )\n",
    "    Marker(\n",
    "        location=row[[\"latitude\",\"longitude\"]],\n",
    "        tooltip=row[\"query\"],\n",
    "        popup=row[\"name\"],\n",
    "        icon=icon\n",
    "    ).add_to(m)\n",
    "    \n",
    "m"
   ]
  },
  {
   "cell_type": "code",
   "execution_count": null,
   "metadata": {},
   "outputs": [],
   "source": []
  },
  {
   "cell_type": "code",
   "execution_count": null,
   "metadata": {},
   "outputs": [],
   "source": []
  },
  {
   "cell_type": "code",
   "execution_count": null,
   "metadata": {},
   "outputs": [],
   "source": []
  },
  {
   "cell_type": "code",
   "execution_count": null,
   "metadata": {},
   "outputs": [],
   "source": []
  }
 ],
 "metadata": {
  "kernelspec": {
   "display_name": "Python 3",
   "language": "python",
   "name": "python3"
  },
  "language_info": {
   "codemirror_mode": {
    "name": "ipython",
    "version": 3
   },
   "file_extension": ".py",
   "mimetype": "text/x-python",
   "name": "python",
   "nbconvert_exporter": "python",
   "pygments_lexer": "ipython3",
   "version": "3.7.7"
  }
 },
 "nbformat": 4,
 "nbformat_minor": 4
}
